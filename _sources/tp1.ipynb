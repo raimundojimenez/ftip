{
 "cells": [
  {
   "cell_type": "markdown",
   "metadata": {},
   "source": [
    "# 07/10/2020\n",
    "\n",
    "You can refer to the corrections (available in \"Corrections\") after you have completed each exercise.\n",
    "Whatever, do not hesitate to ask your colleagues and teachers to get more informations or to discuss about a specific topic."
   ]
  },
  {
   "cell_type": "markdown",
   "metadata": {},
   "source": [
    "## Getting started\n",
    "\n",
    "[Python](https://www.python.org/) is a very versatile programming language and can especially be used for scientific programming and image processing.\n",
    "We will use [Jupyter Lab](https://jupyterlab.readthedocs.io/en/latest/index.html), which runs in a web browser, to write programs.\n",
    "These programs are saved as _notebooks_.\n",
    "\n",
    "* First, start Jupyter by typing in a terminal:\n",
    "  ```\n",
    "  jupyter-lab\n",
    "  ```\n",
    "\n",
    "* Open a new Python 3 notebook, then rename it from `File` > `Save Notebook As...`.\n",
    "\n",
    "* In the first cell of the notebook, write\n",
    "  ```\n",
    "  40 + 2\n",
    "  ```\n",
    "  and type `Shift` + `Return`.\n",
    "  The code is executed, the result is displayed then a new cell appears below.\n",
    "\n",
    "* Like any programming language, the code is written using _variables_ and _functions_.\n",
    "  A _variable_  stores one (or more) values, whether it is numeric or not.\n",
    "  The name of the variable can contain letters, numbers (except the first character) or underscore.\n",
    "  Case is important (_i.e._ `a` and `A` are two different variables).\n",
    "  Type the instructions below in the second cell:\n",
    "  ```\n",
    "  year = 2020\n",
    "  course = \"FTIP\"\n",
    "  ```\n",
    "  and type again `Shift` + `Return`.\n",
    "  Now the value 2020 is stored in the variable `year` and the character string `FTIP` in the `course`.\n",
    "\n",
    "* Modify the previous cell by adding the following statement (`print` is a _function_):\n",
    "  ```\n",
    "  print(course + \" \" + str(year))\n",
    "  ```\n",
    "  and type `Shift` + `Return` to run again the code.\n",
    "\n",
    "A notebook is appealing as it is also possible to add text using the [markdown language](https://en.wikipedia.org/wiki/Markdown).\n",
    "\n",
    "* Select an empty cell, then click on the drop-down list in the toolbar to select _Markdown_.\n",
    "  Then you can write formatted text.\n",
    "  Try to write:\n",
    "  \n",
    "  ---\n",
    "  \n",
    "  Write **bold**, _italic_ or equations: $\\sqrt{2}$.\n",
    "  \n",
    "  ---\n",
    "  \n",
    "  This can be useful for inserting titles or keeping comments and notes.\n",
    "  \n",
    "[Correction](labs/tp1-code.ipynb)"
   ]
  },
  {
   "cell_type": "markdown",
   "metadata": {},
   "source": [
    "## Display a saved image\n",
    "\n",
    "* Open a new notebook.\n",
    "\n",
    "* Write the following statements to allow the use of the modules\n",
    "  `skimage.io` and `matplotlib.pyplot`\n",
    "  which are renamed, by convention, `io` and `plt`.\n",
    "  ```\n",
    "  import skimage.io as io\n",
    "  import matplotlib.pyplot as plt\n",
    "  ```\n",
    "\n",
    "* Load the image mandrill.tiff ([available online](http://sipi.usc.edu/database/database.php?volume=misc&image=10)) and display it:\n",
    "  ```\n",
    "  f = io.imread(\"mandrill.tiff\")\n",
    "  plt.imshow(f)\n",
    "  ```\n",
    "\n",
    "* What are the dimensions (in pixels) of the image?\n",
    "\n",
    "The conversion of a color image with pixel values $r$, $g$, $b$ to a grayscale image with pixel intensity $g$ is made through the transformation\n",
    "\n",
    "$$\n",
    "  g = 0.2125 \\, r + 0.7154 \\, g + 0.0721 \\, b.\n",
    "$$\n",
    "\n",
    "The coefficients have been obtained by psychovisual studies and guarantee that $g\\in[0,1]$ if $r,g,b\\in[0,1]$.\n",
    "\n",
    "* Convert the color image to grayscale (`skimage.color.rgb2gray`) then display it.\n",
    "\n",
    "The natural representation of an image is a two-dimensional display where the intensity of the pixels is given by a color.\n",
    "However, an image can also be seen as a three-dimensional curve, opening the way to new interpretations.\n",
    "\n",
    "* Extract a row or a column of pixels from the image,\n",
    "  then display this brightness profile as a signal (`matplotlib.pyplot.plot`).\n",
    "  Do you manage to find in this profile the different areas of the image?"
   ]
  },
  {
   "cell_type": "markdown",
   "metadata": {},
   "source": [
    "## Create a simple image\n",
    "\n",
    "An RGB image is encoded in the form of a three-dimensional array:\n",
    "the first two dimensions are the spatial dimensions of the image, the third corresponds to the bands.\n",
    "\n",
    "* Create the array corresponding to the RGB image $40 \\times 80$ sketched {numref}`F:tp1:synthimage`:\n",
    "  \n",
    "  ```{figure} figs/synthimage.png\n",
    "  ---\n",
    "  scale: 80%\n",
    "  name: F:tp1:synthimage\n",
    "  ---\n",
    "  A simple image.\n",
    "  ```\n",
    "  \n",
    "  To do this, create first a black image with the right dimensions\n",
    "  (`numpy.zeros` generates an array filled with zeros).\n",
    "  Then assign the desired value to the elements of the matrix, proceeding band by band, by using for example:\n",
    "  ```\n",
    "  f[m1:m2, n1:n2, b] = x\n",
    "  ```\n",
    "  assigns the value `x` to the pixels of the band `b` located between the rows `m1` and `m2`$-1$ and the columns `n1` and `n2`$-1$\n",
    "  (in Python, indices starts at 0)."
   ]
  },
  {
   "cell_type": "markdown",
   "metadata": {},
   "source": [
    "## Setting the intensity range\n",
    "\n",
    "* Display the image [hdfs.tiff](https://vincmazet.github.io/ftip/_static/data/hdfs.tiff), corresponding to a part of the sky in the southern hemisphere.\n",
    "  You should only observe a single star.\n",
    "\n",
    "* What is the dynamic of this image (_i.e._ the minimum and maximum values of the intensities)?\n",
    "\n",
    "* Adjust the intensity range with the arguments `vmin` and `vmax` of the function `matplotlib.pyplot.imshow`\n",
    "  to observe other objects, most of them being galaxies.\n",
    "\n",
    "* Try another colormap (argument `cmap`)."
   ]
  },
  {
   "cell_type": "markdown",
   "metadata": {},
   "source": [
    "## Segmentation by histogram thresholding\n",
    "\n",
    "* Load the image [santamonica.jpg](https://vincmazet.github.io/ftip/_static/data/santamonica.jpg) and convert it to grayscale.\n",
    "\n",
    "* Display its histogram with `matplotlib.pyplot.hist`,\n",
    "  after having vectorized the image with `numpy.ravel`.\n",
    "  \n",
    "* Try different bin number and discuss the result: what do you observe?\n",
    "\n",
    "* Choose a suitable threshold to segment the image into two classes.\n",
    "  To perform thresholding, the easiest way is to display the image\n",
    "  ```\n",
    "  f > threshold\n",
    "  ```\n",
    "  where `f` is the original image and `threshold` is, well... the threshold value."
   ]
  },
  {
   "cell_type": "markdown",
   "metadata": {},
   "source": [
    "## Contrast enhancement\n",
    "\n",
    "* Display the image [forest.png](https://vincmazet.github.io/ftip/_static/data/forest.png), after converting it to grayscale.\n",
    "\n",
    "* Display its histogram.\n",
    "  You will notice that the image is not very contrasted: what does that imply on the histogram?\n",
    "\n",
    "* Multiply the image by a positive real: what happens on the image and its histogram?\n",
    "\n",
    "* Perform an histogram equalization (`skimage.exposure.equalize_hist`).\n",
    "  Do you achieve the exercise goal?"
   ]
  },
  {
   "cell_type": "markdown",
   "metadata": {},
   "source": [
    "% \\exo{débruitage par moyennage}\n",
    "%\n",
    "% Le rapport signal-à-bruit (RSB) permet de quantifier le niveau de bruit sur une image.\n",
    "% Il se mesure en décibel et correspond au rapport de l'énergie de l'image non bruitée $f$ sur l'énergie du bruit $b$~:\n",
    "% \\begin{equation*}\n",
    "%   \\text{RSB} = 10 \\log_{10} \\left(\\frac{\\|f\\|^2}{\\|b\\|^2}\\right)\n",
    "% \\end{equation*}\n",
    "% où $\\log_{10}$ est le logarithme à base~10 (\\syntax{numpy.log10}),\n",
    "% $f$ et $b$ sont respectivement les images non bruitée et le bruit,\n",
    "% et $\\|\\cdot\\|$ est la norme~2 (\\syntax{numpy.linalg.norm})~:\n",
    "% \\begin{equation*}\n",
    "%   \\|f\\| = \\sqrt{\\sum_{m,n} f(m,n)^2}.\n",
    "% \\end{equation*}\n",
    "%\n",
    "% Ce exercice a pour but d'illustrer l'évolution du RSB en fonction du nombre d'images moyennées.\n",
    "% \\begin{questions}\n",
    "%   \\item Chargez l'image schtroumpf.png, puis convertissez-la en nombres flottants avec \\syntax{skimage.util.img\\_as\\_float}.\n",
    "%   \\item Ajoutez du bruit gaussien (\\syntax{skimage.util.random\\_noise}) à l'image, et calculez le RSB de l'image obtenue.\n",
    "%   \\item Effectuez la moyenne de plusieurs images bruitées (avec différentes réalisations de bruit gaussien),\n",
    "%   et calculez le RSB de l'image obtenue.\n",
    "%   \\item Représentez l'évolution du RSB en fonction du nombre d'images moyennées~:\n",
    "%   que pouvez-vous conclure par rapport à l'affirmation donnée dans le support de cours~?\n",
    "%   \\item Effectuez la même étude dans le cas d'un bruit de Poisson,\n",
    "%   tel qu'il peut en exister lorsque le nombre de photons mesurés est très faible.\n",
    "% \\end{questions}"
   ]
  },
  {
   "cell_type": "markdown",
   "metadata": {},
   "source": [
    "% \\exo{!!! histo : tracer histo de quelque images}"
   ]
  },
  {
   "cell_type": "markdown",
   "metadata": {},
   "source": [
    "% \\exo{!!! histo : influence du nb de bins}"
   ]
  },
  {
   "cell_type": "markdown",
   "metadata": {},
   "source": [
    "% \\exo{!!! affichage d'une image hyperspectrale}\n",
    "%\n",
    "% L'image hyperspectrale Indian\\_pines.mat est de taille $145\\times145$ pixels et contient 220 bandes spectrales.\n",
    "% \\begin{questions}\n",
    "%   \\item Affichez la dixième bande de l'image.\n",
    "%   \\item Créez une composition RVB de l'image et affichez-la.\n",
    "%   Vous pouvez pour cela avoir besoin d'effectuer une moyenne (\\syntax{mean})\n",
    "%   et de normaliser les bandes pour forcer leurs intensités à être entre 0 et 1.\n",
    "%   \\item Affichez les spectres de quelques pixels, par exemple les pixels (34,106), (47,20) et (91,136).\n",
    "%   Utilisez la fonction \\syntax{squeeze} qui permet d'éliminer les dimensions vide d'une matrice 3D.\n",
    "% \\end{questions}\n",
    "%\n",
    "% \\begin{note}\n",
    "%   L'image hyperspectrale Indian\\_pines.mat a été capturée en 1992 par le capteur Aviris\n",
    "%   au dessus de champs dans l'Indiana, États-Unis.\n",
    "%   C'est une image de $145\\times145$ pixels et 220 bandes spectrales réparties entre 400 et 2500 nm.\n",
    "%   \\todo{source}\n",
    "% \\end{note}"
   ]
  },
  {
   "cell_type": "code",
   "execution_count": null,
   "metadata": {},
   "outputs": [],
   "source": []
  }
 ],
 "metadata": {
  "kernelspec": {
   "display_name": "Python 3",
   "language": "python",
   "name": "python3"
  },
  "language_info": {
   "codemirror_mode": {
    "name": "ipython",
    "version": 3
   },
   "file_extension": ".py",
   "mimetype": "text/x-python",
   "name": "python",
   "nbconvert_exporter": "python",
   "pygments_lexer": "ipython3",
   "version": "3.7.2"
  }
 },
 "nbformat": 4,
 "nbformat_minor": 4
}
