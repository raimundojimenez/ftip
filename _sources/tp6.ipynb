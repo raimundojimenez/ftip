{
 "cells": [
  {
   "cell_type": "markdown",
   "metadata": {},
   "source": [
    "# 25/11/2020"
   ]
  },
  {
   "cell_type": "markdown",
   "metadata": {},
   "source": [
    "Ce TP est consacré à la détection de caractéristiques pour la métrologie,\n",
    "en appliquant les méthodes vues en cours à l'image L.png.\n",
    "\n",
    "* Rappelez ce que permettent de faire les méthodes et détecteurs suivants :\n",
    "  Canny, Harris, Hough, Moravec, Prewitt, Roberts, Sobel."
   ]
  },
  {
   "cell_type": "markdown",
   "metadata": {},
   "source": [
    "## Détecteurs de Sobel et de Canny\n",
    "\n",
    "Faites en sorte que l'image soit à valeurs dans $[0,1]$ pour que les valeurs par défaut des fonctions donnent des résultats exploitables.\n",
    "\n",
    "* Utilisez `skimage.filters.sobel` pour afficher les gradients de l'image calculés avec la méthode de Sobel.\n",
    "\n",
    "* Appliquez un seuil sur l'image obtenue pour effectuer une première détection de contours.\n",
    "  Comment évolue cette détection lorsque le seuil varie ?\n",
    "\n",
    "* Trouvez le seuil optimal, c'est-à-dire celui qui permettra d'obtenir le plus de contours de l'objet\n",
    "  tout en conservant des contours les plus précis possibles.\n",
    "\n",
    "* Quel est le lien entre la méthode de Sobel et la méthode de Canny ?\n",
    "\n",
    "* Utilisez `skimage.feature.canny` pour afficher les contours détectés par la méthode de Canny.\n",
    "\n",
    "* Étudiez l'influence des principaux paramètres de la méthode,\n",
    "  à savoir la taille du filtre gaussien et les deux seuils.\n",
    "  Pour chaque étude, fixez les autres paramètres à leur valeur par défaut.\n",
    "\n",
    "* Il est parfois intéressant de comparer deux méthodes en termes de temps de calcul.\n",
    "  Le temps de calcul d'une méthode peut être obtenu en calculant la différence\n",
    "  entre le temps $t_2$ mesuré après la méthode et le temps $t_1$ mesuré avant la méthode.\n",
    "  Pour cela, vous pouvez utiliser la fonction `time.time`\n",
    "  qui donne le nombre de secondes écoulées depuis le 1<sup>er</sup> janvier 1970.\n",
    "  Quelle est la méthode la plus rapide ?"
   ]
  },
  {
   "cell_type": "markdown",
   "metadata": {},
   "source": [
    "## Détecteur de Harris\n",
    "\n",
    "* Appliquez la méthode de Harris sur l'image L.png pour détecter les coins.\n",
    "  Utilisez pour cela les méthodes `skimage.feature.corner_harris` et `skimage.feature.corner_peaks`.\n",
    "\n",
    "* Critiquez le résultat obtenu : les coins ont-ils bien tous été détectés ?\n",
    "  Y a-t-il des fausses alarmes (c'est-à-dire des détections qui ne correspondent pas à des points) ?\n",
    "  Comment expliquer ces erreurs ?"
   ]
  },
  {
   "cell_type": "markdown",
   "metadata": {},
   "source": [
    "## Transformée de Hough\n",
    "\n",
    "* La transformée de Hough ne s'applique pas directement sur l'image originale :\n",
    "  quelle image utilisez-vous ?\n",
    "\n",
    "* Représentez la transformée de Hough de l'image avec `skimage.transform.hough_line`.\n",
    "\n",
    "* La fonction `skimage.transform.hough_line_peaks` permet d'extraire de la transformée de Hough\n",
    "  les paramètres des lignes les plus importantes.\n",
    "  Utilisez cette fonction pour affichez les six lignes les plus importantes de l'image.\n",
    "\n",
    "<!-- exo très long pour les étus (bceaucoup de réglages de params) -->\n",
    "<!-- montrer l'influence des paramètres de chaque fonction -->\n",
    "\n",
    "<!-- \\exo{reconnaissance de formes}\n",
    "On souhaite une procédure automatique pour identifier le type de formes (ligne, rond, triangle ou carré) dans l'image formes.jpg.\n",
    "\\begin{questions}\n",
    "  \\item Appliquez des traitements adéquats permettant d'isoler chacune des formes,\n",
    "  c'est-à-dire de fournir plusieurs images, chacune contenant une seule forme.\n",
    "  Certaines fonctions Matlab peuvent vous aider~: n'hésitez pas à vous renseigner dans l'aide dans un premier temps,\n",
    "  ou auprès des enseignants dans un deuxième temps.\n",
    "  \\item Identifiez une ou plusieurs caractéristiques intéressantes\n",
    "  permettant de séparer les formes dans cet espace de caractéristiques.\n",
    "  Vous pouvez utiliser la fonction \\syntax{regionprops}.\n",
    "  \\item Utilisez une méthode de classification pour distinguer les formes.\n",
    "\\end{questions} -->"
   ]
  }
 ],
 "metadata": {
  "kernelspec": {
   "display_name": "Python 3",
   "language": "python",
   "name": "python3"
  },
  "language_info": {
   "codemirror_mode": {
    "name": "ipython",
    "version": 3
   },
   "file_extension": ".py",
   "mimetype": "text/x-python",
   "name": "python",
   "nbconvert_exporter": "python",
   "pygments_lexer": "ipython3",
   "version": "3.7.2"
  }
 },
 "nbformat": 4,
 "nbformat_minor": 4
}
