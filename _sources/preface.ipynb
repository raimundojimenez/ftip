{
 "cells": [
  {
   "cell_type": "markdown",
   "metadata": {},
   "source": [
    "# Preface\n",
    "\n",
    "This is the textbook for the course \"Fundamental Tools for Image Processing\" given in the 2nd year of master IRIV, at the University of Strasbourg. This course comes with [this Moodle page](https://moodle3.unistra.fr/course/view.php?id=13708) (accessible only to my students).\n",
    "\n",
    "To make the exercises on you personnal computer, you must install Python and Jupter Lab, as explained on page {ref}`C:python`."
   ]
  },
  {
   "cell_type": "markdown",
   "metadata": {},
   "source": [
    "% Pour en savoir plus sur Lena : [fr.wikipedia.org/wiki/Lenna](https://fr.wikipedia.org/wiki/Lenna) ou     [www.cs.cmu.edu/$\\sim$chuck/lennapg/](http://www.cs.cmu.edu/~chuck/lennapg/).\n",
    "\n",
    "% {numref}`figure {number} <F:definition:colormap>`\n",
    "% {ref}`reference to the figure <F:definition:colormap>`\n",
    "% {numref}`F:definition:colormap`.\n",
    "\n",
    "% Exemple de définition : on peut citer le livre de Jahne {ref}`[Jahne 2005, p. 42] <C:biblio>`."
   ]
  },
  {
   "cell_type": "code",
   "execution_count": null,
   "metadata": {},
   "outputs": [],
   "source": []
  }
 ],
 "metadata": {
  "kernelspec": {
   "display_name": "Python 3",
   "language": "python",
   "name": "python3"
  },
  "language_info": {
   "codemirror_mode": {
    "name": "ipython",
    "version": 3
   },
   "file_extension": ".py",
   "mimetype": "text/x-python",
   "name": "python",
   "nbconvert_exporter": "python",
   "pygments_lexer": "ipython3",
   "version": "3.7.3"
  }
 },
 "nbformat": 4,
 "nbformat_minor": 4
}
