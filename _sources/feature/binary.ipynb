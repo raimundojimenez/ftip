{
 "cells": [
  {
   "cell_type": "markdown",
   "metadata": {},
   "source": [
    "# Feature detection on binary images"
   ]
  },
  {
   "cell_type": "markdown",
   "metadata": {},
   "source": [
    "<!-- rajouter contours (canny...), lignes et cercles (Hough), contours (Harris...), HoG, descripteurs de fourier, SIFT, ..., region props -->\n",
    "\n",
    "<!-- il y a des features descriptors, feature detection, feature extraction -->\n",
    "\n",
    "<!-- ACP sur une image ? isomap, analyse discriminante de fischer -->"
   ]
  }
 ],
 "metadata": {
  "kernelspec": {
   "display_name": "Python 3",
   "language": "python",
   "name": "python3"
  },
  "language_info": {
   "codemirror_mode": {
    "name": "ipython",
    "version": 3
   },
   "file_extension": ".py",
   "mimetype": "text/x-python",
   "name": "python",
   "nbconvert_exporter": "python",
   "pygments_lexer": "ipython3",
   "version": "3.7.2"
  }
 },
 "nbformat": 4,
 "nbformat_minor": 4
}
