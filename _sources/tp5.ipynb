{
 "cells": [
  {
   "cell_type": "markdown",
   "metadata": {},
   "source": [
    "# 18/11/2020"
   ]
  },
  {
   "cell_type": "markdown",
   "metadata": {},
   "source": [
    "% \\exo{débruitage par moyennage}\n",
    "%\n",
    "% Le rapport signal-à-bruit (RSB) permet de quantifier le niveau de bruit sur une image.\n",
    "% Il se mesure en décibel et correspond au rapport de l'énergie de l'image non bruitée $f$ sur l'énergie du bruit $b$~:\n",
    "% \\begin{equation*}\n",
    "%   \\text{RSB} = 10 \\log_{10} \\left(\\frac{\\|f\\|^2}{\\|b\\|^2}\\right)\n",
    "% \\end{equation*}\n",
    "% où $\\log_{10}$ est le logarithme à base~10 (\\syntax{numpy.log10}),\n",
    "% $f$ et $b$ sont respectivement les images non bruitée et le bruit,\n",
    "% et $\\|\\cdot\\|$ est la norme~2 (\\syntax{numpy.linalg.norm})~:\n",
    "% \\begin{equation*}\n",
    "%   \\|f\\| = \\sqrt{\\sum_{m,n} f(m,n)^2}.\n",
    "% \\end{equation*}\n",
    "%\n",
    "% Ce exercice a pour but d'illustrer l'évolution du RSB en fonction du nombre d'images moyennées.\n",
    "% \\begin{questions}\n",
    "%   \\item Chargez l'image schtroumpf.png, puis convertissez-la en nombres flottants avec \\syntax{skimage.util.img\\_as\\_float}.\n",
    "%   \\item Ajoutez du bruit gaussien (\\syntax{skimage.util.random\\_noise}) à l'image, et calculez le RSB de l'image obtenue.\n",
    "%   \\item Effectuez la moyenne de plusieurs images bruitées (avec différentes réalisations de bruit gaussien),\n",
    "%   et calculez le RSB de l'image obtenue.\n",
    "%   \\item Représentez l'évolution du RSB en fonction du nombre d'images moyennées~:\n",
    "%   que pouvez-vous conclure par rapport à l'affirmation donnée dans le support de cours~?\n",
    "%   \\item Effectuez la même étude dans le cas d'un bruit de Poisson,\n",
    "%   tel qu'il peut en exister lorsque le nombre de photons mesurés est très faible.\n",
    "% \\end{questions}"
   ]
  }
 ],
 "metadata": {
  "kernelspec": {
   "display_name": "Python 3",
   "language": "python",
   "name": "python3"
  },
  "language_info": {
   "codemirror_mode": {
    "name": "ipython",
    "version": 3
   },
   "file_extension": ".py",
   "mimetype": "text/x-python",
   "name": "python",
   "nbconvert_exporter": "python",
   "pygments_lexer": "ipython3",
   "version": "3.7.3"
  }
 },
 "nbformat": 4,
 "nbformat_minor": 4
}
