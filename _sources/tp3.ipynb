{
 "cells": [
  {
   "cell_type": "markdown",
   "metadata": {},
   "source": [
    "# 21/10/2020"
   ]
  },
  {
   "cell_type": "markdown",
   "metadata": {},
   "source": [
    "## Mathematical Morphology\n",
    "\n",
    "L'objectif de cet exercice est de trouver puis de compter le nombre de piscines visibles dans l'image satellitaire\n",
    "[moliets.png](https://vincmazet.github.io/ftip/_static/data/moliets.png).\n",
    "Dans un premier temps, ne cherchez pas à trouver parfaitement toutes les piscines :\n",
    "implémentez une première méthode qui donne un résultat approximatif de manière automatique.\n",
    "La plupart des fonctions utiles sont à importer depuis le module `skimage.morphology`.\n",
    "\n",
    "* Appliquez un seuillage sur l'image pour mettre en évidence les piscines.\n",
    "  Posez-vous la question de l'image à utiliser : vaut-il mieux travailler avec l'image initiale,\n",
    "  l'image en niveau de gris, une bande particulière... ?\n",
    "\n",
    "* Appliquez les opérateurs morphologiques vus en cours (érosion, dilatation, ouverture, fermeture)\n",
    "  pour observer leur influence et en déduire l'opérateur le plus adapté au problème.\n",
    "\n",
    "* Que permet de faire la fonction `skimage.measure.regionprops` ? En quoi peut-elle être utile\n",
    "  pour compter le nombre de piscines ?\n",
    "  Appliquez-la pour déterminer le nombre de piscines.\n",
    "\n",
    "* Déterminez la surface des piscines, sachant que l'image est de résolution 50 cm.\n",
    "\n",
    "* Critiquez la méthode implémentée : identifiez les bons résultats de la méthode et ses limites.\n",
    "  Proposez des améliorations."
   ]
  },
  {
   "cell_type": "markdown",
   "metadata": {},
   "source": [
    "## Registration\n",
    "\n",
    "Dans cet exercice, deux images satellitaires du Capitole à Toulouse sont à recaler :\n",
    "[capitole1.jpg](https://vincmazet.github.io/ftip/_static/data/capitole1.jpg) (la référence) et\n",
    "[capitole2.jpg](https://vincmazet.github.io/ftip/_static/data/capitole2.jpg) (la source).\n",
    "On utilise une approche iconique.\n",
    "\n",
    "* Quel modèle de déformation est à choisir pour effectuer le recalage ?\n",
    "\n",
    "* Avant d'appliquer toute la procédure pour recaler ces deux images,\n",
    "  nous allons dans un premier temps appliquer une déformation arbitraire sur l'image.\n",
    "  Pour cela, utilisez la fonction appropriée du module `skimage.transform`\n",
    "  pour définir une transformation euclidienne de translation $(400, -100)$ et de rotation $\\pi/3$.\n",
    "  Ces paramètres permettent de s'approcher assez près de la transformation optimale.\n",
    "  Appliquez ensuite cette transformation sur l'image source avec `skimage.transform.warp`.\n",
    "  Vérifiez que l'image déformée est assez proche de l'image référence.\n",
    "  Vous pouvez notamment afficher la différence entre les deux images.\n",
    "  \n",
    "* Implémentez une méthode d'optimisation pour déterminer automatiquement les meilleurs paramètres de la transformation.\n",
    "  La méthode d'optimisation la plus simple (bien que très longue en temps de calcul !)\n",
    "  consiste à utiliser des boucles pour tester plusieurs valeurs et conserver celles qui minimisent l'erreur quadratique moyenne\n",
    "  (définie dans le TP précédent)."
   ]
  }
 ],
 "metadata": {
  "kernelspec": {
   "display_name": "Python 3",
   "language": "python",
   "name": "python3"
  },
  "language_info": {
   "codemirror_mode": {
    "name": "ipython",
    "version": 3
   },
   "file_extension": ".py",
   "mimetype": "text/x-python",
   "name": "python",
   "nbconvert_exporter": "python",
   "pygments_lexer": "ipython3",
   "version": "3.7.3"
  }
 },
 "nbformat": 4,
 "nbformat_minor": 4
}
