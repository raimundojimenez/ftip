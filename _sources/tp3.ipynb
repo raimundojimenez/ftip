{
 "cells": [
  {
   "cell_type": "markdown",
   "metadata": {},
   "source": [
    "# 21/10/2020"
   ]
  },
  {
   "cell_type": "markdown",
   "metadata": {},
   "source": [
    "## Mathematical Morphology\n",
    "\n",
    "L'objectif de cet exercice est de trouver puis de compter le nombre de piscines visibles dans l'image satellitaire\n",
    "[moliets.png](https://vincmazet.github.io/ftip/_static/data/moliets.png).\n",
    "Dans un premier temps, ne cherchez pas à trouver parfaitement toutes les piscines :\n",
    "implémentez une première méthode qui donne un résultat approximatif de manière automatique.\n",
    "La plupart des fonctions utiles sont à importer depuis le module `skimage.morphology`.\n",
    "\n",
    "* Appliquez un seuillage sur l'image pour mettre en évidence les piscines.\n",
    "  Posez-vous la question de l'image à utiliser : vaut-il mieux travailler avec l'image initiale,\n",
    "  l'image en niveau de gris, une bande particulière... ?\n",
    "\n",
    "* Appliquez les opérateurs morphologiques vus en cours (érosion, dilatation, ouverture, fermeture)\n",
    "  pour observer leur influence et en déduire l'opérateur le plus adapté au problème.\n",
    "\n",
    "* Que permet de faire la fonction `skimage.measure.regionprops` ? En quoi peut-elle être utile\n",
    "  pour compter le nombre de piscines ?\n",
    "  Appliquez-la pour déterminer le nombre de piscines.\n",
    "\n",
    "* Déterminez la surface des piscines, sachant que l'image est de résolution 50 cm.\n",
    "\n",
    "* Critiquez la méthode implémentée : identifiez les bons résultats de la méthode et ses limites.\n",
    "  Proposez des améliorations."
   ]
  }
 ],
 "metadata": {
  "kernelspec": {
   "display_name": "Python 3",
   "language": "python",
   "name": "python3"
  },
  "language_info": {
   "codemirror_mode": {
    "name": "ipython",
    "version": 3
   },
   "file_extension": ".py",
   "mimetype": "text/x-python",
   "name": "python",
   "nbconvert_exporter": "python",
   "pygments_lexer": "ipython3",
   "version": "3.7.3"
  }
 },
 "nbformat": 4,
 "nbformat_minor": 4
}
