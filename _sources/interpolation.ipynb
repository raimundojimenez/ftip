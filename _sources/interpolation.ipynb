{
 "cells": [
  {
   "cell_type": "markdown",
   "metadata": {},
   "source": [
    "(C:interpolation)=\n",
    "# Interpolation\n",
    "\n",
    "% Images pas affichées à la bonne taille (Chrome : ×1,3, FF : ×1,25) : donc elles sont floues.\n",
    "% ```{figure} figs/grid.png\n",
    "% ---\n",
    "% height: 100px\n",
    "% ```\n",
    "% \n",
    "% ```{figure} figs/grid.png\n",
    "% ```\n",
    "\n",
    "% Donner, les instructions et fonctions Python à utiliser (ex : chargement, affichage, fft...) ?"
   ]
  },
  {
   "cell_type": "markdown",
   "metadata": {},
   "source": [
    "Lire le cours [Transformations géométriques](https://perso.esiee.fr/~perretb/I5FM/TAI/geometry/index.html) (sans faire les exercices)."
   ]
  }
 ],
 "metadata": {
  "kernelspec": {
   "display_name": "Python 3",
   "language": "python",
   "name": "python3"
  },
  "language_info": {
   "codemirror_mode": {
    "name": "ipython",
    "version": 3
   },
   "file_extension": ".py",
   "mimetype": "text/x-python",
   "name": "python",
   "nbconvert_exporter": "python",
   "pygments_lexer": "ipython3",
   "version": "3.7.2"
  }
 },
 "nbformat": 4,
 "nbformat_minor": 4
}
