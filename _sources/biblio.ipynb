{
 "cells": [
  {
   "cell_type": "markdown",
   "metadata": {},
   "source": [
    "(C:biblio)=\n",
    "# References"
   ]
  },
  {
   "cell_type": "markdown",
   "metadata": {},
   "source": [
    "* [Gonzalez 2010]\n",
    "  R.C. Gonzalez, R.E.Woods.\n",
    "  _Digital Image Processing_,\n",
    "  Pearson, 2010.\n",
    "\n",
    "* [Jahne 2005]\n",
    "  B. Jähne.\n",
    "  _Digital Image Processing_,\n",
    "  Springer, 2005.\n",
    "  [Available freely from Unistra or INSA](https://www.springer.com/gp/book/9783540240358) (or through VPN).\n",
    "  \n",
    "* [Perret 2017]\n",
    "  B. Perret.\n",
    "  [_Traitement d'histogramme_](https://perso.esiee.fr/~perretb/I5FM/TAI/histogramme/index.html).\n",
    "  2017."
   ]
  }
 ],
 "metadata": {
  "kernelspec": {
   "display_name": "Python 3",
   "language": "python",
   "name": "python3"
  },
  "language_info": {
   "codemirror_mode": {
    "name": "ipython",
    "version": 3
   },
   "file_extension": ".py",
   "mimetype": "text/x-python",
   "name": "python",
   "nbconvert_exporter": "python",
   "pygments_lexer": "ipython3",
   "version": "3.7.3"
  }
 },
 "nbformat": 4,
 "nbformat_minor": 4
}
