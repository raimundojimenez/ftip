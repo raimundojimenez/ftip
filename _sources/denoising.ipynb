{
 "cells": [
  {
   "cell_type": "markdown",
   "metadata": {},
   "source": [
    "(C:denoising)=\n",
    "# Denoising"
   ]
  },
  {
   "cell_type": "markdown",
   "metadata": {},
   "source": [
    "[Ancien cours](https://vincmazet.github.io/ftip/_static/slides/restauration-slides.pdf)"
   ]
  },
  {
   "cell_type": "markdown",
   "metadata": {},
   "source": [
    "\n",
    "% \\subsubsection*{Démonstration~: débruitage par moyenne d'images}\n",
    "%\n",
    "% On dispose de $I$ observations $f_i$ de la même scène.\n",
    "% Chaque observation $f_i$ est modélisée comme\n",
    "% la somme d'une image déterministe $x$ et d'un bruit additif~$b_i$~:\n",
    "% \\begin{equation*}\n",
    "%   \\forall i, \\quad f_i = x + b_i.\n",
    "% \\end{equation*}\n",
    "% Les bruits $b_i$ sont supposés aléatoires, de moyenne nulle $E[b_i] = 0$, de variance $V[b_i]$\n",
    "% et indépendants d'une observation $i$ à l'autre (donc $E[b_i b_j] = 0$ si $i \\neq j$).\n",
    "%\n",
    "% La moyenne des observations $\\bar{f}$ s'écrit~:\n",
    "% \\begin{equation*}\n",
    "%   \\bar{f} = \\frac{1}{I} \\sum_i f_i = \\frac{1}{I} \\sum_i (x + b_i) = x + \\frac{1}{I} \\sum_i b_i = x + \\bar{b}.\n",
    "% \\end{equation*}\n",
    "% Ainsi, la moyenne des observations peut être vue comme la somme de $x$ et d'un bruit $\\bar{b}$.\n",
    "% Puisque l'espérance $E$ est un opérateur linéaire et que le bruit $b_i$ est de moyenne nulle,\n",
    "% son espérance est~:\n",
    "% \\begin{equation*}\n",
    "%   E\\left[\\bar{b}\\right]\n",
    "%   = E\\left[\\frac{1}{I} \\sum_i b_i \\right]\n",
    "%   = \\frac{1}{I} \\sum_i E \\left[ b_i \\right]\n",
    "%   = \\frac{1}{I} \\sum_i 0\n",
    "%    = 0.\n",
    "% \\end{equation*}\n",
    "%\n",
    "% Par ailleurs, la variance du bruit $\\bar{b}$ est~:\n",
    "% \\begin{align*}\n",
    "%   V\\left[\\bar{b}\\right]\n",
    "%   &= E\\left[ \\left( \\bar{b} - E[\\bar{b}] \\right)^2 \\right]      &&\\text{par définition de la variance} \\\\\n",
    "%   &= E\\left[ \\bar{b}^2 \\right]                                  &&\\text{car $E\\left[\\bar{b}\\right]=0$} \\\\\n",
    "%   &= E\\left[\\left(\\frac{1}{I} \\sum_i b_i\\right)^2\\right]        &&\\text{par définition de $\\bar{b}$} \\\\\n",
    "%   &= \\frac{1}{I^2} E\\left[\\left(\\sum_i b_i\\right)^2\\right]      &&\\text{l'espérance étant linéaire}\\\\\n",
    "%   &= \\frac{1}{I^2} \\sum_i E[b_i^2]                              &&\\text{les $b_i$ étant indépendants ($E[b_i b_j] = 0$ si $i \\neq j$)} \\\\\n",
    "%   &= \\frac{1}{I^2} \\sum_i V[b_i]                                &&\\text{les $b_i$ étant de moyenne nulle, $V[b_i]=E[b_i^2]$} \\\\\n",
    "%   &= \\frac{1}{I} V[b_i]\n",
    "% \\end{align*}\n",
    "% La variance de $\\bar{b}$ est donc $I$ fois plus petite que la variance du bruit initial $b_i$.\n",
    "% Autrement dit, la moyenne de $I$ observations sous hypothèse de bruit additif, indépendant et de moyenne nulle,\n",
    "% permet de diminuer la variance, donc la puissance, du bruit d'un facteur~$I$.\n"
   ]
  }
 ],
 "metadata": {
  "kernelspec": {
   "display_name": "Python 3",
   "language": "python",
   "name": "python3"
  },
  "language_info": {
   "codemirror_mode": {
    "name": "ipython",
    "version": 3
   },
   "file_extension": ".py",
   "mimetype": "text/x-python",
   "name": "python",
   "nbconvert_exporter": "python",
   "pygments_lexer": "ipython3",
   "version": "3.7.2"
  }
 },
 "nbformat": 4,
 "nbformat_minor": 4
}
