{
 "cells": [
  {
   "cell_type": "markdown",
   "metadata": {},
   "source": [
    "# 07/10/2020\n",
    "\n",
    "The corrections of these exercises are available in the part \"Corrections\".\n",
    "Nevertheless, do not hesitate to ask your colleagues and teachers to get more informations or to discuss about a specific topic."
   ]
  },
  {
   "cell_type": "markdown",
   "metadata": {},
   "source": [
    "## Getting started\n",
    "\n",
    "[Python](https://www.python.org/) is a very versatile programming language and can especially be used for scientific programming and image processing.\n",
    "We will use [Jupyter Lab](https://jupyterlab.readthedocs.io/en/latest/index.html), which runs in a web browser, to write programs.\n",
    "These programs are saved as _notebooks.\n",
    "\n",
    "* First, start Jupyter by typing in a terminal:\n",
    "  ```\n",
    "    jupyter-notebook\n",
    "  ```\n",
    "\n",
    "* Open a new Python 3 notebook, then rename it from `File` > `Save Notebook As...`.\n",
    "\n",
    "* In the first and single cell of the notebook, write\n",
    "  ```\n",
    "    40 + 2\n",
    "  ```\n",
    "  and type `Shift` + `Return`.\n",
    "  The code is executed, the result is displayed then a new cell appears below.\n",
    "\n",
    "* Like any programming language, the code is written using _variables_, _operators_ and _functions_.\n",
    "  A _variable_  store one (or more) values, whether it is numeric or not.\n",
    "  The name of the variable can contain letters, numbers (except the first character) or underscore.\n",
    "  Case is important (_i.e._ `a` and `A` are two different variables).\n",
    "  Type the instructions below in the second cell:\n",
    "  ```\n",
    "    year = 2020\n",
    "    course = \"FTIP\"\n",
    "  ```\n",
    "  and type again `Shift` + `Return`.\n",
    "  \n",
    "  So, the value 2020 is stored in the variable `year`\n",
    "  and the character string `FTIP` in the `course`.\n",
    "\n",
    "* Modify the previous cell by adding the following statement:\n",
    "  ```\n",
    "    print(course + \" \" + str(year))\n",
    "  ```\n",
    "  `print` is a function.\n",
    "  The code of the cell is then run again.\n",
    "\n",
    "A notebook is appealing as it is also possible to add text using the [markdown language](https://en.wikipedia.org/wiki/Markdown).\n",
    "\n",
    "* Select an empty cell, then click on the drop-down list in the toolbar to select _Markdown_.\n",
    "  Then you can write formatted text.\n",
    "  Try to write:\n",
    "  \n",
    "  ---\n",
    "  \n",
    "    Write **bold**, _italic_ or equations: $\\sqrt{2}$.\n",
    "  \n",
    "  ---\n",
    "  \n",
    "  This can be useful for inserting titles or keeping comments and notes.\n"
   ]
  },
  {
   "cell_type": "markdown",
   "metadata": {},
   "source": [
    "## Display a saved image\n",
    "\n",
    "* Open a new notebook.\n",
    "\n",
    "* Write the following statements to allow the use of the modules\n",
    "  `skimage.io` and `matplotlib.pyplot`\n",
    "  which are renamed, by convention, `io` and `plt`.\n",
    "  ```\n",
    "    import skimage.io as io\n",
    "    import matplotlib.pyplot as plt\n",
    "  ```\n",
    "\n",
    "* Load the image mandrill.tiff ([available online](http://sipi.usc.edu/database/database.php?volume=misc&image=10)) and display it:\n",
    "  ```\n",
    "    f = io.imread(\"mandrill.tiff\")\n",
    "    plt.imshow(f)\n",
    "  ```\n",
    "\n",
    "* What are the dimensions (in pixels) of the image?\n",
    "\n",
    "The conversion of a color image with pixel values $r$, $g$, $b$ to a grayscale image with pixel intensity $g$ is made through the transformation\n",
    "\n",
    "$$\n",
    "  g = 0.2125 \\, r + 0.7154 \\, g + 0.0721 \\, b.\n",
    "$$\n",
    "\n",
    "The coefficients have been obtained by psychovisual studies and guarantee that $g\\in[0,1]$ if $r,g,b\\in[0,1]$.\n",
    "\n",
    "* Convert the color image to grayscale (`skimage.color.rgb2gray`) then display it.\n",
    "\n",
    "The natural representation of an image is a two-dimensional display where the intensity of the pixels is given by a color.\n",
    "However, an image can also be seen as a three-dimensional curve, opening the way to new interpretations.\n",
    "\n",
    "* Extract a row or a column of pixels from the image,\n",
    "  then display this brightness profile as a signal (`matplotlib.pyplot.plot`).\n",
    "  Do you manage to find in this profile the different areas of the image?"
   ]
  },
  {
   "cell_type": "markdown",
   "metadata": {},
   "source": [
    "## Create a simple image\n",
    "\n",
    "Une image RVB est codée sous forme d'une matrice à trois dimensions~:\n",
    "les deux premières sont les dimensions spatiales de l'image, la troisième correspond aux bandes.\n",
    "\n",
    "\\begin{questions}\n",
    "\n",
    "  \\item Synthétisez puis affichez l'image $40 \\times 80$ schématisée ci-dessous.\n",
    "  \\medskip\n",
    "  \\begin{center}\n",
    "    \\includegraphics[scale=0.8]{synthimage}\n",
    "  \\end{center}\n",
    "  Pour cela, créez tout d'abord une image noire aux bonnes dimensions\n",
    "  (la fonction \\syntax{numpy.zeros} crée une matrice remplie de zéros),\n",
    "  puis affectez la valeur souhaitée aux éléments de la matrice, en procédant bande par bande.\n",
    "  Ainsi,\n",
    "  \\begin{code}\n",
    "f[m1:m2, n1:n2, b] = x\n",
    "  \\end{code}\n",
    "  affecte la valeur \\syntax{x} aux pixels de la bande \\syntax{b}\n",
    "  situés entre les lignes \\syntax{m1} et \\syntax{m2}$-1$\n",
    "  et les colonnes \\syntax{n1} et~\\syntax{n2}$-1$\n",
    "  (en Python, les indices sont numérotés en partant de~0).\n",
    "\n",
    "\\end{questions}"
   ]
  },
  {
   "cell_type": "code",
   "execution_count": 4,
   "metadata": {},
   "outputs": [
    {
     "name": "stderr",
     "output_type": "stream",
     "text": [
      "UsageError: Line magic function `%` not found.\n"
     ]
    }
   ],
   "source": [
    "\n",
    "\n",
    "% =============================================================================================== %\n",
    "\n",
    "% \\exo{!!! affichage d'une image hyperspectrale}\n",
    "%\n",
    "% L'image hyperspectrale Indian\\_pines.mat est de taille $145\\times145$ pixels et contient 220 bandes spectrales.\n",
    "% \\begin{questions}\n",
    "%   \\item Affichez la dixième bande de l'image.\n",
    "%   \\item Créez une composition RVB de l'image et affichez-la.\n",
    "%   Vous pouvez pour cela avoir besoin d'effectuer une moyenne (\\syntax{mean})\n",
    "%   et de normaliser les bandes pour forcer leurs intensités à être entre 0 et 1.\n",
    "%   \\item Affichez les spectres de quelques pixels, par exemple les pixels (34,106), (47,20) et (91,136).\n",
    "%   Utilisez la fonction \\syntax{squeeze} qui permet d'éliminer les dimensions vide d'une matrice 3D.\n",
    "% \\end{questions}\n",
    "%\n",
    "% \\begin{note}\n",
    "%   L'image hyperspectrale Indian\\_pines.mat a été capturée en 1992 par le capteur Aviris\n",
    "%   au dessus de champs dans l'Indiana, États-Unis.\n",
    "%   C'est une image de $145\\times145$ pixels et 220 bandes spectrales réparties entre 400 et 2500 nm.\n",
    "%   \\todo{source}\n",
    "% \\end{note}\n"
   ]
  },
  {
   "cell_type": "code",
   "execution_count": 5,
   "metadata": {},
   "outputs": [
    {
     "ename": "SyntaxError",
     "evalue": "unexpected character after line continuation character (<ipython-input-5-c3dac1deae25>, line 3)",
     "output_type": "error",
     "traceback": [
      "\u001b[0;36m  File \u001b[0;32m\"<ipython-input-5-c3dac1deae25>\"\u001b[0;36m, line \u001b[0;32m3\u001b[0m\n\u001b[0;31m    \\exo{réglage de la gamme des intensités (palette de couleurs)}\u001b[0m\n\u001b[0m                                                                  ^\u001b[0m\n\u001b[0;31mSyntaxError\u001b[0m\u001b[0;31m:\u001b[0m unexpected character after line continuation character\n"
     ]
    }
   ],
   "source": [
    "\n",
    "% =============================================================================================== %\n",
    "\n",
    "\\exo{réglage de la gamme des intensités (palette de couleurs)}\n",
    "\n",
    "\\begin{questions}\n",
    "  \\item Affichez l'image hdfs.tiff. Vous ne devriez observer qu'un seul objet~: une étoile.\n",
    "  \\item Quelle est la dynamique de cette image, c'est-à-dire les valeurs minimale et maximale des intensités~?\n",
    "  \\item Réglez la gamme des intensités avec les arguments \\syntax{vmin} et \\syntax{vmax}\n",
    "  de \\syntax{matplotlib.pyplot.imshow} pour observer les autres objets, la plupart étant des galaxies.\n",
    "  \\item Utilisez une autre palette des couleurs (argument \\syntax{cmap}).\n",
    "\\end{questions}"
   ]
  },
  {
   "cell_type": "code",
   "execution_count": 6,
   "metadata": {},
   "outputs": [
    {
     "name": "stderr",
     "output_type": "stream",
     "text": [
      "UsageError: Line magic function `%` not found.\n"
     ]
    }
   ],
   "source": [
    "\n",
    "\n",
    "% =============================================================================================== %\n",
    "\n",
    "% \\exo{débruitage par moyennage}\n",
    "%\n",
    "% Le rapport signal-à-bruit (RSB) permet de quantifier le niveau de bruit sur une image.\n",
    "% Il se mesure en décibel et correspond au rapport de l'énergie de l'image non bruitée $f$ sur l'énergie du bruit $b$~:\n",
    "% \\begin{equation*}\n",
    "%   \\text{RSB} = 10 \\log_{10} \\left(\\frac{\\|f\\|^2}{\\|b\\|^2}\\right)\n",
    "% \\end{equation*}\n",
    "% où $\\log_{10}$ est le logarithme à base~10 (\\syntax{numpy.log10}),\n",
    "% $f$ et $b$ sont respectivement les images non bruitée et le bruit,\n",
    "% et $\\|\\cdot\\|$ est la norme~2 (\\syntax{numpy.linalg.norm})~:\n",
    "% \\begin{equation*}\n",
    "%   \\|f\\| = \\sqrt{\\sum_{m,n} f(m,n)^2}.\n",
    "% \\end{equation*}\n",
    "%\n",
    "% Ce exercice a pour but d'illustrer l'évolution du RSB en fonction du nombre d'images moyennées.\n",
    "% \\begin{questions}\n",
    "%   \\item Chargez l'image schtroumpf.png, puis convertissez-la en nombres flottants avec \\syntax{skimage.util.img\\_as\\_float}.\n",
    "%   \\item Ajoutez du bruit gaussien (\\syntax{skimage.util.random\\_noise}) à l'image, et calculez le RSB de l'image obtenue.\n",
    "%   \\item Effectuez la moyenne de plusieurs images bruitées (avec différentes réalisations de bruit gaussien),\n",
    "%   et calculez le RSB de l'image obtenue.\n",
    "%   \\item Représentez l'évolution du RSB en fonction du nombre d'images moyennées~:\n",
    "%   que pouvez-vous conclure par rapport à l'affirmation donnée dans le support de cours~?\n",
    "%   \\item Effectuez la même étude dans le cas d'un bruit de Poisson,\n",
    "%   tel qu'il peut en exister lorsque le nombre de photons mesurés est très faible.\n",
    "% \\end{questions}"
   ]
  },
  {
   "cell_type": "code",
   "execution_count": 7,
   "metadata": {},
   "outputs": [
    {
     "name": "stderr",
     "output_type": "stream",
     "text": [
      "UsageError: Line magic function `%` not found.\n"
     ]
    }
   ],
   "source": [
    "\n",
    "\n",
    "% =============================================================================================== %\n",
    "\n",
    "% \\exo{!!! histo : tracer histo de quelque images}"
   ]
  },
  {
   "cell_type": "code",
   "execution_count": 8,
   "metadata": {},
   "outputs": [
    {
     "name": "stderr",
     "output_type": "stream",
     "text": [
      "UsageError: Line magic function `%` not found.\n"
     ]
    }
   ],
   "source": [
    "\n",
    "\n",
    "% =============================================================================================== %\n",
    "\n",
    "% \\exo{!!! histo : influence du nb de bins}"
   ]
  },
  {
   "cell_type": "code",
   "execution_count": 9,
   "metadata": {},
   "outputs": [
    {
     "ename": "SyntaxError",
     "evalue": "unexpected character after line continuation character (<ipython-input-9-158d09b2ba2d>, line 3)",
     "output_type": "error",
     "traceback": [
      "\u001b[0;36m  File \u001b[0;32m\"<ipython-input-9-158d09b2ba2d>\"\u001b[0;36m, line \u001b[0;32m3\u001b[0m\n\u001b[0;31m    \\exo{segmentation par seuillage à partir de l'histogramme}\u001b[0m\n\u001b[0m                                                              ^\u001b[0m\n\u001b[0;31mSyntaxError\u001b[0m\u001b[0;31m:\u001b[0m unexpected character after line continuation character\n"
     ]
    }
   ],
   "source": [
    "\n",
    "\n",
    "% =============================================================================================== %\n",
    "\n",
    "\\exo{segmentation par seuillage à partir de l'histogramme}\n",
    "\n",
    "\\begin{questions}\n",
    "  \\item Chargez l'image santamonica.jpg et convertissez-la en niveaux de gris.\n",
    "  \\item Affichez son histogramme avec la fonction \\syntax{matplotlib.pyplot.hist},\n",
    "  après avoir vectorisé l'image avec \\syntax{numpy.ravel}.\n",
    "  \\item Essayez avec plusieurs nombres de barres~: que pouvez-vous en dire~?\n",
    "  \\item Choisir un seuil adéquat pour segmenter l'image en deux classes.\n",
    "  Pour effectuer le seuillage, le plus simple est d'afficher l'image\n",
    "  \\begin{code}\n",
    "f > seuil\n",
    "  \\end{code}\n",
    "  où \\syntax{f} est l'image originale et \\syntax{seuil} est la valeur du seuil.\n",
    "\\end{questions}"
   ]
  },
  {
   "cell_type": "code",
   "execution_count": null,
   "metadata": {},
   "outputs": [],
   "source": [
    "\n",
    "\n",
    "% =============================================================================================== %\n",
    "\n",
    "\\exo{amélioration du contraste}\n",
    "\n",
    "\\begin{questions}\n",
    "\n",
    "  \\item Affichez l'image forest.png, une fois convertie en niveaux de gris.\n",
    "\n",
    "  \\item Affichez son histogramme.\n",
    "  Vous constaterez que l'image est peu contrastée~: comment cela se traduit-il sur l'histogramme~?\n",
    "\n",
    "  \\item Multipliez l'image par un réel positif~: que se passe-t-il sur l'image et son histogramme~?\n",
    "\n",
    "  \\item Effectuez une égalisation de l'histogramme (\\syntax{skimage.exposure.equalize\\_hist}).\n",
    "  Est-ce que l'objectif de l'exercice est atteint~?\n",
    "\n",
    "\\end{questions}\n",
    "\n",
    "% =============================================================================================== %\n"
   ]
  }
 ],
 "metadata": {
  "kernelspec": {
   "display_name": "Python 3",
   "language": "python",
   "name": "python3"
  },
  "language_info": {
   "codemirror_mode": {
    "name": "ipython",
    "version": 3
   },
   "file_extension": ".py",
   "mimetype": "text/x-python",
   "name": "python",
   "nbconvert_exporter": "python",
   "pygments_lexer": "ipython3",
   "version": "3.7.3"
  }
 },
 "nbformat": 4,
 "nbformat_minor": 4
}
