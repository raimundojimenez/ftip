{
 "cells": [
  {
   "cell_type": "markdown",
   "metadata": {},
   "source": [
    "# Glossary\n",
    "\n",
    "| 🇬🇧 | 🇫🇷 |\n",
    "| :--- | ---: |\n",
    "| Closing | Fermeture |\n",
    "| Colormap | Palette de couleurs |\n",
    "| Convolution | Convolution |\n",
    "| Denoising | Débruitage |\n",
    "| Dilation | Dilatation |\n",
    "| Discrete Fourier transform | Transformée de Fourier discrète |\n",
    "| Erosion | Érosion |\n",
    "| Grayscale image | Image à niveaux de gris |\n",
    "| High-pass filter | Filtre passe-haut |\n",
    "| Hit-or-miss transform | Transformée tout-ou-rien |\n",
    "| Low-pass filter | Filtre passe-bas |\n",
    "| Mathematical morphology | Morphologie mathématique |\n",
    "| Opening | Ouverture |\n",
    "| Structuring element | Élément structurant |"
   ]
  }
 ],
 "metadata": {
  "kernelspec": {
   "display_name": "Python 3",
   "language": "python",
   "name": "python3"
  },
  "language_info": {
   "codemirror_mode": {
    "name": "ipython",
    "version": 3
   },
   "file_extension": ".py",
   "mimetype": "text/x-python",
   "name": "python",
   "nbconvert_exporter": "python",
   "pygments_lexer": "ipython3",
   "version": "3.7.3"
  }
 },
 "nbformat": 4,
 "nbformat_minor": 4
}
