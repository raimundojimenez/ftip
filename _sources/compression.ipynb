{
 "cells": [
  {
   "cell_type": "markdown",
   "metadata": {},
   "source": [
    "# Compression"
   ]
  },
  {
   "cell_type": "code",
   "execution_count": 3,
   "metadata": {
    "tags": [
     "remove-cell"
    ]
   },
   "outputs": [],
   "source": [
    "from myst_nb import glue"
   ]
  },
  {
   "cell_type": "markdown",
   "metadata": {},
   "source": [
    "% Standards de compression fournis par\n",
    "% l'ITU (\\emph{International Telecommunication Union}) et\n",
    "% l'ISO (\\emph{International Organization for Standardization})\n",
    "\n",
    "% 1950~: conceptualisation (Shannon, Golay, Hamming, \\dots)\n",
    "% 1960~: conquête spatiale\n",
    "% 1970~: révolution informatique\n",
    "% 1980~: réseaux (minitel), données numérisées (CD)\n",
    "% 1990~: internet, téléphonie mobile\n",
    "% 2000~: électronique et informatique grand public\n",
    "% 2010~: données massives (\\emph{big data})\n",
    "% 2020~: internet des objets"
   ]
  },
  {
   "cell_type": "markdown",
   "metadata": {},
   "source": [
    "## Introduction"
   ]
  },
  {
   "cell_type": "markdown",
   "metadata": {},
   "source": [
    "Do you know how bytes are needed to code one second of Full HD video?\n",
    "Let me recall that this standard is characterized by images of size 1920 × 1080, each of the three channels (RGB) is coded with 1 byte, and there are 50 frames per second.\n",
    "\n",
    "```{toggle}\n",
    "One second contains 1920 × 1080 × 3 × 50 = 311 040 000 bytes, or around 311 Mb.\n",
    "Thus, a DVD (4,7 Gb) can store only 15 s of a movie...\n",
    "```\n",
    "\n",
    "This example shows the need for image compression!\n",
    "The goal of image compression is to hold the _information_ contained in the image with fewer bytes than the original image.\n",
    "OK, but how to quantify information?\n",
    "In 1948, [Claude Shannon](https://en.wikipedia.org/wiki/Claude_Shannon) proposed to consider that an image or a message is very informative if it is unlikely.\n",
    "This definition is currently still used and needs to model the problem by using probabilities (but this is out of the scope of this course).\n",
    "\n",
    "We distinguish two kinds of compression:\n",
    "\n",
    "* With **lossless compression**, no information is lost during compression\n",
    "  (_i.e._ the original image and the compressed image are perfectly identical.\n",
    "  It is possible to reach a compression ratio up to 1/10\n",
    "  (the size in bytes of the compressed image is 1/10 times the original one).\n",
    "  \n",
    "* In **lossy compression**, we accept to loose information during compression\n",
    "  (while ensuring that the original image still remain close to the original one).\n",
    "  The compression ratio can reach 1/100!"
   ]
  },
  {
   "cell_type": "markdown",
   "metadata": {},
   "source": [
    "## Lossless compression\n",
    "\n",
    "Here are two examples of lossless image compression."
   ]
  },
  {
   "cell_type": "markdown",
   "metadata": {},
   "source": [
    "### Run-length encoding\n",
    "\n",
    "RLE (run-length encoding) replaces a sequence of pixels of the same color with the number of pixels in that sequence.\n",
    "Therefore, the image\n",
    "\n",
    "```{glue:figure} G:compression:rle\n",
    ":name: \"F:compression:rle\"\n",
    "\n",
    "A 3 × 3 image.\n",
    "```\n",
    "\n",
    "is encoding without compression with 9 bytes:\n",
    "\n",
    "$$\n",
    "  \\begin{pmatrix} 0 & 0 & 0 & 255 & 255 & 255 & 255 & 128 & 128 \\end{pmatrix}.\n",
    "$$\n",
    "\n",
    "By reading the image column after column, we see 3 pixels with intensity 0, 4 pixels with intensity 255, and 2 pixels with intensity 128.\n",
    "Thus the image is encoded in RLE with only 6 bytes:\n",
    "\n",
    "$$\n",
    "  \\begin{pmatrix} 3 & 0 & 4 & 255 & 2 & 128 \\end{pmatrix}.\n",
    "$$\n",
    "\n",
    "In this example, the compression rate is 6/9 = 2/3.\n",
    "\n",
    "In computers, the BMP format is based on RLE compression."
   ]
  },
  {
   "cell_type": "code",
   "execution_count": 17,
   "metadata": {
    "tags": [
     "remove-cell"
    ]
   },
   "outputs": [
    {
     "data": {
      "application/papermill.record/image/png": "iVBORw0KGgoAAAANSUhEUgAAALgAAAC2CAYAAABqOUe3AAAABHNCSVQICAgIfAhkiAAAAAlwSFlzAAALEgAACxIB0t1+/AAAADh0RVh0U29mdHdhcmUAbWF0cGxvdGxpYiB2ZXJzaW9uMy4xLjMsIGh0dHA6Ly9tYXRwbG90bGliLm9yZy+AADFEAAADwklEQVR4nO3dMUpraRjH4ffIFS0UbKYLDFjEBVjcTt3BXYil2YB99uEyonYDzgbsBiQWo1Y2EvCbZi4EQY0kOZf5z/NAmu8I7wn8lK967VprBak2fvULwDoJnGgCJ5rAiSZwogmcaN8+eth13Y+qumut/Tl/vru72/b29tb6Yj9tbm7WbDbrZVZV1fb2dm1s9PN7//r6ataSHh8f6+HhoXv3B1prX/4MBoNWVb18xuNxb7Oqqk0mk9YXs5Z3eHjY2getuqIQTeBEEzjRBE40gRNN4EQTONEETjSBE03gRBM40QRONIETTeBEEzjRBE40gRNN4EQTONEETjSBE03gRBM40QRONIETrWuf/IeHruuOWmvX82f7+/vt9PR0rS/202AwqLu7u15mVVUdHBzUzs5OL7Oen5/NWtJoNKqbmxur2xb9pK44S51ldRv/awInmsCJJnCiCZxoAieawIkmcKIJnGgCJ5rAiSZwogmcaAInmsCJJnCiCZxoAieawIkmcKIJnGgCJ5rAiSZwogmcaN9+9QvQj/v7+zo/P+9l1nA47G3WdDr98PkiuwmPW2tX82d2E65Gnzv8np6e6uXlpZdZW1tbvc06Ozur6XT67m7CT/+Cv427qmo2m9VoNFr23RYyHo97m1VVNZlM6uTkpJdZl5eXvc26uLio29vbXmYNh8PeZn3GHZxoAieawIkmcKIJnGgCJ5rAiSZwogmcaAInmsCJJnCiCZxoAieawIkmcKIJnGgCJ5rAiSZwogmcaAInmsCJJnCiCZxoi6xuO2qtXc+fWd22Gla3LW8Vq9uu355Z3bYaVretnysK0QRONIETTeBEEzjRBE40gRNN4EQTONEETjSBE03gRBM40QRONIETTeBEEzjRBE40gRNN4EQTONEETjSBE03gRBM40RZZ3XbcWruaP7O6bTWsblveKla3Xb09s7ptNaxuWz9XFKIJnGgCJ5rAiSZwogmcaAInmsCJJnCiCZxoAieawIkmcKIJnGgCJ5rAiSZwogmcaAInmsCJJnCiCZxoAieawIkmcKJZ3faG1W3Ls7rtC6xuWw2r2yCQwIkmcKIJnGgCJ5rAiSZwogmcaAInmsCJJnCiCZxoAieawIkmcKIJnGgCJ5rAiSZwogmcaAInmsCJJnCiCZxoAifaIqvbvrfW/nhz9ndV/bXOF4MF/d5a++29h58GDv9lrihEEzjRvhx413U/uq47XMfLvDPvqMdZxz3OSv1evc36d973D5+7g5PMFYVoAieawIkmcKIJnGgCJ9o/F3ZsjANGAhUAAAAASUVORK5CYII=\n",
      "application/papermill.record/text/plain": "<Figure size 216x216 with 1 Axes>"
     },
     "metadata": {
      "scrapbook": {
       "mime_prefix": "application/papermill.record/",
       "name": "G:compression:rle"
      }
     },
     "output_type": "display_data"
    },
    {
     "data": {
      "image/png": "[encoded data removed]",
      "text/plain": [
       "<Figure size 216x216 with 1 Axes>"
      ]
     },
     "metadata": {
      "needs_background": "light"
     },
     "output_type": "display_data"
    }
   ],
   "source": [
    "from numpy import array\n",
    "from matplotlib.pyplot import figure, imshow, tick_params, grid\n",
    "\n",
    "fig = figure(figsize=(3,3))\n",
    "img = array([[0, 255, 255], [0, 255, 128], [0, 255, 128]])\n",
    "imshow(img, cmap=\"gray\")\n",
    "tick_params(axis='both', labelsize=0, length=0)\n",
    "grid()\n",
    "glue(\"G:compression:rle\", fig, display=False)"
   ]
  },
  {
   "cell_type": "markdown",
   "metadata": {},
   "source": [
    "### Lempel-Ziv-Welch Algorithm\n",
    "\n",
    "The LZW algorithm (Lempel-Ziv-Welch, 1984) is an improvement of the LZ78 algorithm (1978).\n",
    "The principle is to build a dictionary of existing groups of pixels and to assign a code to each group.\n",
    "It is used in format like GIF or TIFF.\n",
    "\n",
    "The algorithm is the following one:\n",
    "<pre>\n",
    "Initialize the dictionary with all the possible intensities\n",
    "For each pixel:\n",
    "  Look to the longest sequence in the dictionary that starts at this pixel\n",
    "  Replace this sequence with the corresponding code\n",
    "  Add to the dictionary the sequence followed by the next pixel\n",
    "</pre>"
   ]
  },
  {
   "cell_type": "markdown",
   "metadata": {},
   "source": [
    "## Lossy compression\n",
    "\n",
    "The most famous compression format for images is JPEG.\n",
    "The JPEG format was created by the Joint Photographic Experts Group in 1992.\n",
    "\n",
    "The main idea of JPEG compression is to apply a specific tranform on the image (namely, the discrete cosine transform)\n",
    "and to cancel some coefficients of the transform.\n",
    "Actually, the JPEG compression is a sequence of several steps, including:\n",
    "* use another color space instead of the usual RGB representation,\n",
    "* downsample the image\n",
    "* split the image into 8 $\\times$ 8 sub-images\n",
    "* compute the the discrete cosine transform (DCT) of each sub-image\n",
    "* quantification of the DCT coefficients\n",
    "\n",
    "Other minor steps are also existing in the pipe-line of JPEG compression.\n",
    "Now let's have a look on the previous major steps."
   ]
  },
  {
   "cell_type": "markdown",
   "metadata": {},
   "source": [
    "### Changing the color space\n",
    "\n",
    "[Numerous color spaces](https://en.wikipedia.org/wiki/List_of_color_spaces_and_their_uses) exist aside of the usual RGB one.\n",
    "Among them, the YCbCr is the one used in JPEG compression.\n",
    "YCbCr has also three channels:\n",
    "Y represents the luma (_i.e._ brightness or grayscale image), and Cb and Cr are the blue and red chroma components.\n",
    "\n",
    "FIGURE X represents the components R, G, B (top) and Y, Cb, Cr (bottom) of the same image, for a comparison.\n",
    "\n",
    "```\n",
    "FIG X\n",
    "```\n",
    "\n",
    "In FIGURE Y, the image is recomposed by using only two of the three channels, for each color space.\n",
    "As you can see, the image is visible in each recomposition, except the one where the channel Y is missing.\n",
    "Indeed, the human eye is more sensible to the brightness of an image (carried by Y) than another channel.\n",
    "Therefore, the idea is to compress the channel Y less than the chroma channels.\n",
    "\n",
    "```\n",
    "FIG Y\n",
    "```"
   ]
  },
  {
   "cell_type": "markdown",
   "metadata": {},
   "source": [
    "\n",
    "% ================================================================================================================================================= %\n",
    "\n",
    "\\begin{frame}{\\sqnum{2}Sous-échantillonnage}\n",
    "\n",
    "L'\\oe{}il humain est plus sensible à la luminosité d'une image (composante Y) qu'à la couleur (composantes Cb et Cr)\\\\\n",
    "(95~\\% de bâtonnets pour la lumière~; 5~\\% de cônes pour la couleur).\n",
    "\n",
    "% \\medskip\n",
    "\n",
    "% $\\Rightarrow$ Utilisation de l'espace YCbCr pour permettre une compression plus importante sans altérer la qualité de l'image.\n",
    "\n",
    "\\medskip\\pause\n",
    "\n",
    "$\\Rightarrow$ Sous-échantillonnage des chrominances.\n",
    "\n",
    "% Le schéma de sous-échantillonnage est noté J\\!:a\\!:b où~:\n",
    "% \\begin{itemize}\n",
    "%   \\item J~: taille horizontale du bloc (généralement 4)\n",
    "%   \\item a~: nombre de chrominances dans la 1\\textsuperscript{re} ligne\n",
    "%   \\item b~: nombre de chrominances additionnels dans la 2\\textsuperscript{e} ligne\n",
    "% \\end{itemize}\n",
    "\n",
    "\\begin{center}\n",
    "  \\includegraphics[width=\\textwidth]{Jab}\n",
    "  % source : https://en.wikipedia.org/wiki/Chroma_subsampling\n",
    "\\end{center}\n",
    "\n",
    "\\end{frame}"
   ]
  },
  {
   "cell_type": "markdown",
   "metadata": {},
   "source": [
    "\n",
    "\n",
    "% ================================================================================================================================================= %\n",
    "\n",
    "\\begin{frame}{\\sqnum{3}Découpage en sous-images 8 $\\times$ 8}\n",
    "\n",
    "Chaque canal (Y, Cb, Cr) est découpé en blocs de 8$\\times$8 pixels.\n",
    "\n",
    "\\end{frame}\n"
   ]
  },
  {
   "cell_type": "markdown",
   "metadata": {},
   "source": [
    "\n",
    "% ================================================================================================================================================= %\n",
    "\n",
    "% \\only<beamer>{\n",
    "% \\begin{frame}{\\sqnum{4}Application d'une transformée}\n",
    "% \\begin{center}\n",
    "%   \\includegraphics[width=3cm]{matlab}\n",
    "% \\end{center}\n",
    "% \\end{frame}\n",
    "% }\n",
    "\n",
    "% ================================================================================================================================================= %\n",
    "\n",
    "\\begin{frame}{\\sqnum{4}Application d'une transformée}\n",
    "\n",
    "L'énergie d'une image naturelle est principalement concentrée dans les basses fréquences,\n",
    "donc sur quelques coefficients de la transformée en cosinus discrète (DCT~: \\textit{discrete cosine transform}).\n",
    "\n",
    "\\bigskip\n",
    "\n",
    "$\\Rightarrow$ compression dans le domaine de la DCT.\n",
    "\n",
    "\\bigskip\n",
    "\\pause\n",
    "\n",
    "Le format JPEG2000 utilise la transformée en ondelettes.\n",
    "\n",
    "\\end{frame}\n",
    "\n",
    "% ================================================================================================================================================= %\n",
    "\n",
    "\\only<beamer>{\n",
    "\\begin{frame}{\\sqnum{4}Application d'une transformée}\n",
    "\n",
    "\\includegraphics[width=\\textwidth]{jpeg92vs2000}\n",
    "\n",
    "\\end{frame}\n",
    "}\n",
    "\n",
    "% ================================================================================================================================================= %\n",
    "\n",
    "\\begin{frame}{\\sqnum{4}Application de la DCT}\n",
    "\n",
    "Transformée en cosinus discrète de l'image $x$ de taille $N \\times N$~:\n",
    "{\\small\n",
    "\\begin{equation*}\n",
    "  X(u,v) = \\frac{2}{N} C(u) C(v) \\sum_{m=0}^{N-1} \\sum_{n=0}^{N-1}\n",
    "  x(m, n) \\cos\\left[\\frac{(2m+1)u\\pi}{2N} \\right] \\cos\\left[\\frac{(2n+1)v\\pi}{2N} \\right]\n",
    "\\end{equation*}}\n",
    "où\n",
    "\\begin{equation*}\n",
    "  C(u) =\n",
    "  \\begin{cases}\n",
    "    \\frac{1}{\\sqrt{2}}  &\\text{pour $u = 0$}, \\\\\n",
    "    1                   &\\text{pour $u > 0$}.\n",
    "  \\end{cases}\n",
    "\\end{equation*}\n",
    "\n",
    "\\end{frame}\n",
    "\n",
    "% ================================================================================================================================================= %\n",
    "\n",
    "\\begin{frame}{\\sqnum{4}Application de la DCT}\n",
    "\n",
    "% Fact DCT algo :\n",
    "% - DCT est un type de TFD\n",
    "% - les coefficients sont des nombres réels\n",
    "% Chen et al ``a fast computational algorithm for the discrete cosine transform'' COM-25 pp 1004-1009, 1979\n",
    "\n",
    "Décomposition de la sous-image 8$\\times$8 en somme de cosinus 2D~:\n",
    "\\begin{center}\n",
    "  \\includegraphics[width=5cm]{dct-8x8}\n",
    "\\end{center}\n",
    "\n",
    "\\end{frame}\n"
   ]
  },
  {
   "cell_type": "markdown",
   "metadata": {},
   "source": [
    "\n",
    "% ================================================================================================================================================= %\n",
    "\n",
    "\\begin{frame}{\\sqnum{5}Quantification de la transformée}\n",
    "\n",
    "\\begin{itemize}\n",
    "\n",
    "  \\item les coefficients $X(u,v)$ de la DCT sont quantifiés~:\n",
    "  \\begin{equation*}\n",
    "    X'(u,v) = \\mathrm{round} \\left( \\frac{X(u,v)}{Q(u,v)} \\right)\n",
    "  \\end{equation*}\n",
    "\n",
    "  \\item La quantification $Q(u,v)$ est plus forte dans les hautes fréquences (l'\\oe{}il y étant moins sensible).\n",
    "\n",
    "\\end{itemize}\n",
    "\n",
    "\\bigskip\n",
    "\\pause\n",
    "\n",
    "Exemple (image 4$\\times$4)~:\n",
    "\\begin{equation*}\n",
    "  X = \\begin{bmatrix} 103,67 & 42,42 \\\\ 38,06 & 28,45 \\end{bmatrix}\\quad\\text{et}\\quad\n",
    "  Q = \\begin{bmatrix} 10 & 80 \\\\ 80 & 100 \\end{bmatrix}\\quad\\Rightarrow\\quad\n",
    "  X' = \\only<beamer>{\\begin{bmatrix} 10 & 1 \\\\ 0 & 0 \\end{bmatrix}}\n",
    "       \\only<handout>{\\hspace*{3cm}}\n",
    "\\end{equation*}\n",
    "\n",
    "\\end{frame}\n"
   ]
  },
  {
   "cell_type": "markdown",
   "metadata": {},
   "source": [
    "\n",
    "% ================================================================================================================================================= %\n",
    "\n",
    "\\begin{frame}{\\sqnum{6}Compression de la quantification}\n",
    "\n",
    "Un parcours en zig-zag des blocs produit une séquence où les fréquences similaires sont regroupées.\n",
    "\\begin{center}\n",
    "  \\includegraphics[width=4cm]{zigzag}\n",
    "\\end{center}\n",
    "\n",
    "\\pause\n",
    "\n",
    "Au sein de cette séquence, les différences sont compressées avec l'algorithme RLE puis avec un code de Huffman.\n",
    "\n",
    "\\end{frame}\n",
    "% ================================================================================================================================================= %\n"
   ]
  }
 ],
 "metadata": {
  "kernelspec": {
   "display_name": "Python 3",
   "language": "python",
   "name": "python3"
  },
  "language_info": {
   "codemirror_mode": {
    "name": "ipython",
    "version": 3
   },
   "file_extension": ".py",
   "mimetype": "text/x-python",
   "name": "python",
   "nbconvert_exporter": "python",
   "pygments_lexer": "ipython3",
   "version": "3.7.2"
  }
 },
 "nbformat": 4,
 "nbformat_minor": 4
}
