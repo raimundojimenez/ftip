{
 "cells": [
  {
   "cell_type": "markdown",
   "metadata": {},
   "source": [
    "# (Pattern & Co)"
   ]
  },
  {
   "cell_type": "markdown",
   "metadata": {},
   "source": [
    "## Detection de caractéristiques sur des images binaires\n",
    "\n",
    "Images binaires => on peut utiliser la MM\n",
    "\n",
    "Les objets binaires peuvent être caractérisés par des descripteurs de forme, par exemple :\n",
    "\n",
    "- le centroïde : coordonnées du barycentre\n",
    "\n",
    "- la surface : nombre de pixels de l'objet\n",
    "\n",
    "- la boîte englobante \\eng{bounding box} : le plus petit rectangle contenant l'objet\n",
    "\n",
    "- le périmètre : la longueur de la ligne reliant les pixels du contour\n",
    "  on peut caluler le périmètre en comptant le nombre de pixels du contour, \n",
    "  que l'on peut obtenir en enlevant l'image érodée de l'image originale~:\n",
    "  \n",
    "  $$\n",
    "    \\partial I = I \\setminus (I \\ominus E)\n",
    "  $$\n",
    "  \n",
    "  Une alternative est d'enlever l'image originale à sa dilatée~:\n",
    "  \n",
    "  $$\n",
    "    \\partial I = (I \\oplus E) \\setminus I\n",
    "  $$\n",
    "  \n",
    "  (exemple avec le mannele)\n",
    "\n",
    "- compacité~:\n",
    "  \n",
    "  $$\n",
    "    C = \\frac{4 \\pi \\times \\text{surface}}{\\text{périmètre}^2}\n",
    "  $$\n",
    "  \n",
    "  $C = 1$ pour un disque, $C = 4\\pi/16 \\approx 0,20$ pour un carré."
   ]
  },
  {
   "cell_type": "code",
   "execution_count": 2,
   "metadata": {},
   "outputs": [
    {
     "data": {
      "text/plain": [
       "<matplotlib.image.AxesImage at 0x7f59cbff5940>"
      ]
     },
     "execution_count": 2,
     "metadata": {},
     "output_type": "execute_result"
    },
    {
     "data": {
      "image/png": "[encoded data removed]",
      "text/plain": [
       "<Figure size 432x288 with 1 Axes>"
      ]
     },
     "metadata": {
      "needs_background": "light"
     },
     "output_type": "display_data"
    }
   ],
   "source": [
    "import numpy as np\n",
    "from skimage.io import imread, imsave\n",
    "from skimage.color import rgb2gray\n",
    "from skimage.transform import resize\n",
    "from matplotlib.pyplot import imshow, show\n",
    "from skimage.morphology import binary_erosion, binary_dilation\n",
    "\n",
    "img = imread('figs/bonhomme.png')\n",
    "img2 = rgb2gray(img)\n",
    "N = 40\n",
    "img3 = resize(img2, (N,N))\n",
    "img4 = img3<0.8\n",
    "imshow(img4, cmap='gray')\n",
    "# imsave('contour-img.png', img4*255)\n",
    "\n",
    "se = np.array([ \\\n",
    "    [0, 1, 0], \\\n",
    "    [1, 1, 1], \\\n",
    "    [0, 1, 0] ])\n",
    "imshow(se, cmap='gray')\n",
    "\n",
    "img5 = binary_erosion(img4,se)\n",
    "imshow(img5, cmap='gray')\n",
    "# imsave('contour-erosion.png', img5*255)\n",
    "\n",
    "img6 = img4*1 - img5*1\n",
    "imshow(img6, cmap='gray')\n",
    "# imsave('contour-result.png', img6*255)"
   ]
  }
 ],
 "metadata": {
  "kernelspec": {
   "display_name": "Python 3",
   "language": "python",
   "name": "python3"
  },
  "language_info": {
   "codemirror_mode": {
    "name": "ipython",
    "version": 3
   },
   "file_extension": ".py",
   "mimetype": "text/x-python",
   "name": "python",
   "nbconvert_exporter": "python",
   "pygments_lexer": "ipython3",
   "version": "3.7.3"
  }
 },
 "nbformat": 4,
 "nbformat_minor": 4
}
