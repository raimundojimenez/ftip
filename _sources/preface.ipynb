{
 "cells": [
  {
   "cell_type": "markdown",
   "metadata": {},
   "source": [
    "# Preface\n",
    "\n",
    "This is the textbook for the course \"Fundamental Tools for Image Processing\" given in the 2nd year of master IRIV, at the University of Strasbourg. This course comes with [this Moodle page](https://moodle3.unistra.fr/course/view.php?id=13708) (accessible only to my students).\n",
    "\n",
    "To make the exercises on your personal computer, you must install Python and Jupyter Lab, as explained on page {ref}`C:python`."
   ]
  }
 ],
 "metadata": {
  "kernelspec": {
   "display_name": "Python 3",
   "language": "python",
   "name": "python3"
  },
  "language_info": {
   "codemirror_mode": {
    "name": "ipython",
    "version": 3
   },
   "file_extension": ".py",
   "mimetype": "text/x-python",
   "name": "python",
   "nbconvert_exporter": "python",
   "pygments_lexer": "ipython3",
   "version": "3.7.3"
  }
 },
 "nbformat": 4,
 "nbformat_minor": 4
}
