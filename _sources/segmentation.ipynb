{
 "cells": [
  {
   "cell_type": "markdown",
   "metadata": {},
   "source": [
    "(C:segmentation)=\n",
    "# Segmentation"
   ]
  },
  {
   "cell_type": "markdown",
   "metadata": {},
   "source": [
    "[Ancien cours](https://vincmazet.github.io/ftip/_static/slides/segmentation-slides.pdf)\n",
    "\n",
    "* Opérateurs connexes (cf https://perso.esiee.fr/~perretb/I5FM/TAI/connexity/index.html 🇫🇷):\n",
    "  - Adjacence\n",
    "  - Composantes connexes\n",
    "  - Labélisation"
   ]
  },
  {
   "cell_type": "markdown",
   "metadata": {},
   "source": []
  }
 ],
 "metadata": {
  "kernelspec": {
   "display_name": "Python 3",
   "language": "python",
   "name": "python3"
  },
  "language_info": {
   "codemirror_mode": {
    "name": "ipython",
    "version": 3
   },
   "file_extension": ".py",
   "mimetype": "text/x-python",
   "name": "python",
   "nbconvert_exporter": "python",
   "pygments_lexer": "ipython3",
   "version": "3.7.2"
  }
 },
 "nbformat": 4,
 "nbformat_minor": 4
}
