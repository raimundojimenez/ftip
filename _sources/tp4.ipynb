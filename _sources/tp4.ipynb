{
 "cells": [
  {
   "cell_type": "markdown",
   "metadata": {},
   "source": [
    "# 04/11/2020"
   ]
  },
  {
   "cell_type": "markdown",
   "metadata": {},
   "source": [
    "On souhaite segmenter les pièces de monnaie de l'image [coins1.png](https://vincmazet.github.io/ftip/_static/data/coins1.png) en seuillant l'image.\n",
    "\n",
    "Dans un premier temps, le seuil est choisi visuellement à partir de l'histogramme de l'image.\n",
    "\n",
    "* Affichez l'histogramme de l'image [coins1.png](https://vincmazet.github.io/ftip/_static/data/coins1.png), et déduisez-en un seuil pour segmenter l'image.\n",
    "  L'image seuillée `image2` est obtenue à partir de l'image `image1` et le seuil `s` avec la syntaxe\n",
    "  \n",
    "  ```\n",
    "  image2 = image1>s\n",
    "  ```\n",
    "  \n",
    "* Calculez le coefficient Dice de la segmentation obtenue\n",
    "  en comparant cette dernière à la vérité terrain [coins-groundtruth.png](https://vincmazet.github.io/ftip/_static/data/coins-groundtruth.png).\n",
    "\n",
    "Dans un deuxième temps, le seuil est déterminé grâce à la méthode de Otsu.\n",
    "\n",
    "* Utilisez `skimage.filters.threshold_otsu` pour déterminer une valeur de seuil,\n",
    "  et affichez la segmentation résultante.\n",
    "\n",
    "* Qu'observez-vous comme différences entre le résultat de cette segmentation\n",
    "  avec le résultat de la segmentation manuelle ?\n",
    "  Comment ces différences peuvent-elles s'expliquer ?\n",
    "\n",
    "Considérons maintenant l'image [coins2.png](https://vincmazet.github.io/ftip/_static/data/coins2.png).\n",
    "\n",
    "* En quoi cette nouvelle image diffère de la précédente ?\n",
    "\n",
    "* Segmentez l'image avec le seuil déterminé par la méthode de Otsu sur cette nouvelle image.\n",
    "  Qu'observez-vous, et comment cela peut s'expliquer ?\n",
    "\n",
    "Enfin, un seuil adaptatif est appliqué à l'image [coins2.png](https://vincmazet.github.io/ftip/_static/data/coins2.png).\n",
    "Cela consiste à considérer des portions de l'image et à appliquer un seuillage de Otsu sur chacune d'elles.\n",
    "\n",
    "* Appliquez un seuillage adaptatif pour segmenter l'image.\n",
    "\n",
    "* Critiquez la méthode implémentée : identifiez les bons résultats de la méthode et ses limites.\n",
    "  Proposez des améliorations.\n",
    "\n",
    "<!-- Questions supplémentaires possibles :\n",
    "- utiliser la ligne de partage des eaux pour distinguer des pièces qui seraient collées\n",
    "- contour actifs -->"
   ]
  },
  {
   "cell_type": "markdown",
   "metadata": {},
   "source": [
    "_Une fois que vous avez terminé ce TP, appelez un enseignant pour discuter de vos conclusions.\n",
    "Ensuite, revenez sur les TP précédents que vous n'avez pas terminés._"
   ]
  }
 ],
 "metadata": {
  "kernelspec": {
   "display_name": "Python 3",
   "language": "python",
   "name": "python3"
  },
  "language_info": {
   "codemirror_mode": {
    "name": "ipython",
    "version": 3
   },
   "file_extension": ".py",
   "mimetype": "text/x-python",
   "name": "python",
   "nbconvert_exporter": "python",
   "pygments_lexer": "ipython3",
   "version": "3.7.2"
  }
 },
 "nbformat": 4,
 "nbformat_minor": 4
}
